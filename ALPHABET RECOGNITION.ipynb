{
 "cells": [
  {
   "cell_type": "code",
   "execution_count": 1,
   "metadata": {},
   "outputs": [
    {
     "name": "stderr",
     "output_type": "stream",
     "text": [
      "Using TensorFlow backend.\n"
     ]
    }
   ],
   "source": [
    "from keras.models import Sequential\n",
    "from keras.layers import Dense\n",
    "from keras.layers import Dropout\n",
    "from keras.layers import Flatten\n",
    "from keras.layers.convolutional import Conv2D\n",
    "from keras.layers.convolutional import MaxPooling2D\n",
    "from keras import backend as K\n",
    "from keras.utils import np_utils\n",
    "from sklearn.model_selection import train_test_split\n",
    "from sklearn.preprocessing import MinMaxScaler\n",
    "import numpy as np\n",
    "import pandas as pd "
   ]
  },
  {
   "cell_type": "code",
   "execution_count": 2,
   "metadata": {},
   "outputs": [
    {
     "name": "stdout",
     "output_type": "stream",
     "text": [
      "(372450, 785)\n",
      "   label  0.1  0.2  0.3  0.4  0.5  0.6  0.7  0.8  0.9  ...    0.639  0.640  \\\n",
      "0      0    0    0    0    0    0    0    0    0    0  ...        0      0   \n",
      "1      0    0    0    0    0    0    0    0    0    0  ...        0      0   \n",
      "2      0    0    0    0    0    0    0    0    0    0  ...        0      0   \n",
      "3      0    0    0    0    0    0    0    0    0    0  ...        0      0   \n",
      "4      0    0    0    0    0    0    0    0    0    0  ...        0      0   \n",
      "\n",
      "   0.641  0.642  0.643  0.644  0.645  0.646  0.647  0.648  \n",
      "0      0      0      0      0      0      0      0      0  \n",
      "1      0      0      0      0      0      0      0      0  \n",
      "2      0      0      0      0      0      0      0      0  \n",
      "3      0      0      0      0      0      0      0      0  \n",
      "4      0      0      0      0      0      0      0      0  \n",
      "\n",
      "[5 rows x 785 columns]\n",
      "(279337, 28, 28, 1)\n",
      "(93113, 26)\n"
     ]
    }
   ],
   "source": [
    "\n",
    "data = pd.read_csv('C:/Users/ADHI/Desktop/MACHINE LEARNING/KAGGLE PROBLEMS/ENGLISH ALPHABET/A_Z Handwritten Data.csv')\n",
    "\n",
    "print(data.shape) # (372451, 785)\n",
    "\n",
    "data.rename(columns={'0':'label'}, inplace=True)\n",
    "\n",
    "print(data.head())\n",
    "\n",
    "X = data.drop('label',axis = 1)\n",
    "y = data['label']\n",
    "\n",
    "(X_train, X_test, Y_train, Y_test) = train_test_split(X, y)\n",
    "\n",
    "standard_scaler = MinMaxScaler()\n",
    "standard_scaler.fit(X_train)\n",
    "\n",
    "X_train = standard_scaler.transform(X_train)\n",
    "X_test = standard_scaler.transform(X_test)\n",
    "\n",
    "X_train = X_train.reshape((X_train.shape[0], 28, 28, 1)).astype('float32')\n",
    "X_test = X_test.reshape((X_test.shape[0], 28, 28, 1)).astype('float32')\n",
    "\n",
    "print(X_train.shape) # (1, 249542, 784, 1)\n",
    "\n",
    "Y_train = np_utils.to_categorical(Y_train)\n",
    "Y_test = np_utils.to_categorical(Y_test)\n",
    "\n",
    "print(Y_test.shape) # (122909, 26)\n",
    "\n",
    "num_classes = Y_test.shape[1] # 26\n",
    "\n"
   ]
  },
  {
   "cell_type": "code",
   "execution_count": 4,
   "metadata": {},
   "outputs": [
    {
     "name": "stdout",
     "output_type": "stream",
     "text": [
      "WARNING:tensorflow:From C:\\Users\\ADHI\\AppData\\Roaming\\Python\\Python37\\site-packages\\tensorflow\\python\\framework\\op_def_library.py:263: colocate_with (from tensorflow.python.framework.ops) is deprecated and will be removed in a future version.\n",
      "Instructions for updating:\n",
      "Colocations handled automatically by placer.\n",
      "WARNING:tensorflow:From C:\\Users\\ADHI\\Anaconda3\\lib\\site-packages\\keras\\backend\\tensorflow_backend.py:3445: calling dropout (from tensorflow.python.ops.nn_ops) with keep_prob is deprecated and will be removed in a future version.\n",
      "Instructions for updating:\n",
      "Please use `rate` instead of `keep_prob`. Rate should be set to `rate = 1 - keep_prob`.\n",
      "WARNING:tensorflow:From C:\\Users\\ADHI\\AppData\\Roaming\\Python\\Python37\\site-packages\\tensorflow\\python\\ops\\math_ops.py:3066: to_int32 (from tensorflow.python.ops.math_ops) is deprecated and will be removed in a future version.\n",
      "Instructions for updating:\n",
      "Use tf.cast instead.\n",
      "Train on 279337 samples, validate on 93113 samples\n",
      "Epoch 1/1\n",
      " - 7342s - loss: 0.1183 - acc: 0.9670 - val_loss: 0.0583 - val_acc: 0.9838\n"
     ]
    },
    {
     "data": {
      "text/plain": [
       "<keras.callbacks.History at 0x20084f1e128>"
      ]
     },
     "execution_count": 4,
     "metadata": {},
     "output_type": "execute_result"
    }
   ],
   "source": [
    "model = Sequential()\n",
    "\n",
    "model.add(Conv2D(64, (5, 5), input_shape=(28, 28, 1), activation='relu', data_format=\"channels_last\", padding=\"same\"))\n",
    "model.add(Conv2D(64, (5, 5), input_shape=(28, 28, 1), activation='relu', data_format=\"channels_last\", padding=\"same\"))\n",
    "model.add(MaxPooling2D(pool_size=(2, 2)))\n",
    "\n",
    "model.add(Conv2D(128, (3, 3), activation='relu', data_format=\"channels_last\", padding=\"same\"))\n",
    "model.add(Conv2D(128, (3, 3), activation='relu', data_format=\"channels_last\", padding=\"same\"))\n",
    "model.add(MaxPooling2D(pool_size=(2, 2)))\n",
    "\n",
    "model.add(Dropout(0.2))\n",
    "\n",
    "model.add(Flatten())\n",
    "model.add(Dense(128, activation='relu'))\n",
    "model.add(Dense(num_classes, activation='softmax'))\n",
    "\n",
    "model.compile(loss='categorical_crossentropy', optimizer='adam', metrics=['accuracy'])\n",
    "model.fit(X_train, Y_train, validation_data=(X_test, Y_test), epochs=1, batch_size=100, verbose=2)\n",
    "#classifier.fit_generator(training_set,steps_per_epoch = 8000,epochs = 1,validation_data = test_set,validation_steps = 2000)\n"
   ]
  },
  {
   "cell_type": "code",
   "execution_count": 32,
   "metadata": {},
   "outputs": [],
   "source": [
    "import numpy as np\n",
    "from keras.preprocessing import image\n",
    "import cv2\n",
    "#test_image = image.load_img('C:/Users/ADHI/Desktop/image/28.jpg', target_size = (28,28))\n",
    "test_image = cv2.imread('C:/Users/ADHI/Desktop/image/28.jpg')\n",
    "test_image = cv2.resize(test_image, (28, 28))\n",
    "test_image = cv2.cvtColor(test_image, cv2.COLOR_BGR2GRAY)\n",
    "test_image = test_image.reshape([-1, 28, 28,1])\n",
    "\n",
    "#test_image = image.img_to_array(test_image)\n",
    "test_image = np.expand_dims(test_image, axis = 0)\n",
    "result = model.predict(file)"
   ]
  },
  {
   "cell_type": "code",
   "execution_count": 33,
   "metadata": {},
   "outputs": [
    {
     "name": "stdout",
     "output_type": "stream",
     "text": [
      "q\n"
     ]
    }
   ],
   "source": [
    "if result[0][0] == 1:\n",
    "    print('a')\n",
    "elif result[0][1] == 1:\n",
    "    print('b')\n",
    "elif result[0][2] == 1:\n",
    "    print('c')\n",
    "elif result[0][3] == 1:\n",
    "    print('d')\n",
    "elif result[0][4] == 1:\n",
    "    print('e')\n",
    "elif result[0][5] == 1:\n",
    "    print('f')\n",
    "elif result[0][6] == 1:\n",
    "    print('g')\n",
    "elif result[0][7] == 1:\n",
    "    print('h')\n",
    "elif result[0][8] == 1:\n",
    "    print('i')\n",
    "elif result[0][9] == 1:\n",
    "    print('j')\n",
    "elif result[0][10] == 1:\n",
    "    print('k')\n",
    "elif result[0][11] == 1:\n",
    "    print('l')\n",
    "elif result[0][12] == 1:\n",
    "    print('m')\n",
    "elif result[0][13] == 1:\n",
    "    print('n')\n",
    "elif result[0][14] == 1:\n",
    "    print('o')\n",
    "elif result[0][15] == 1:\n",
    "    print('p')\n",
    "elif result[0][16] == 1:\n",
    "    print('q')\n",
    "elif result[0][17] == 1:\n",
    "    print('r')\n",
    "elif result[0][18] == 1:\n",
    "    print('s')\n",
    "elif result[0][19] == 1:\n",
    "    print('t')\n",
    "elif result[0][20] == 1:\n",
    "    print('u')\n",
    "elif result[0][21] == 1:\n",
    "    print('v')\n",
    "elif result[0][22] == 1:\n",
    "    print('w')\n",
    "elif result[0][23] == 1:\n",
    "    print('x')\n",
    "elif result[0][24] == 1:\n",
    "    print('y')\n",
    "elif result[0][25] == 1:\n",
    "    print('z')\n"
   ]
  },
  {
   "cell_type": "code",
   "execution_count": null,
   "metadata": {},
   "outputs": [],
   "source": []
  },
  {
   "cell_type": "code",
   "execution_count": null,
   "metadata": {},
   "outputs": [],
   "source": []
  },
  {
   "cell_type": "code",
   "execution_count": null,
   "metadata": {},
   "outputs": [],
   "source": []
  },
  {
   "cell_type": "code",
   "execution_count": null,
   "metadata": {},
   "outputs": [],
   "source": []
  }
 ],
 "metadata": {
  "kernelspec": {
   "display_name": "Python 3",
   "language": "python",
   "name": "python3"
  },
  "language_info": {
   "codemirror_mode": {
    "name": "ipython",
    "version": 3
   },
   "file_extension": ".py",
   "mimetype": "text/x-python",
   "name": "python",
   "nbconvert_exporter": "python",
   "pygments_lexer": "ipython3",
   "version": "3.7.0"
  }
 },
 "nbformat": 4,
 "nbformat_minor": 2
}
